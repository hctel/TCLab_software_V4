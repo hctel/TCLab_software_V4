{
 "cells": [
  {
   "cell_type": "markdown",
   "id": "bc94dfd6",
   "metadata": {},
   "source": [
    "# TCLab_Test"
   ]
  },
  {
   "cell_type": "code",
   "execution_count": 19,
   "id": "0876410b",
   "metadata": {
    "tags": []
   },
   "outputs": [],
   "source": [
    "import tclab\n",
    "import time"
   ]
  },
  {
   "cell_type": "markdown",
   "id": "23f2be27",
   "metadata": {},
   "source": [
    "# Connect to TCLab"
   ]
  },
  {
   "cell_type": "code",
   "execution_count": 21,
   "id": "f7ee438a",
   "metadata": {
    "tags": []
   },
   "outputs": [
    {
     "name": "stdout",
     "output_type": "stream",
     "text": [
      "TCLab version 1.9.0 DBR\n"
     ]
    },
    {
     "ename": "AlreadyConnectedError",
     "evalue": "You already have an open connection",
     "output_type": "error",
     "traceback": [
      "\u001b[1;31m---------------------------------------------------------------------------\u001b[0m",
      "\u001b[1;31mAlreadyConnectedError\u001b[0m                     Traceback (most recent call last)",
      "Cell \u001b[1;32mIn[21], line 1\u001b[0m\n\u001b[1;32m----> 1\u001b[0m lab \u001b[38;5;241m=\u001b[39m tclab\u001b[38;5;241m.\u001b[39mTCLab()\n\u001b[0;32m      3\u001b[0m lab\u001b[38;5;241m.\u001b[39mQ1(\u001b[38;5;241m50\u001b[39m)\n\u001b[0;32m      4\u001b[0m lab\u001b[38;5;241m.\u001b[39mQ2(\u001b[38;5;241m50\u001b[39m)\n",
      "File \u001b[1;32m~\\Documents\\ECAM\\24-25\\Control Theory\\Laboratory\\Tclab software_v4\\TCLab_software_V4\\tclab.py:68\u001b[0m, in \u001b[0;36mTCLab.__init__\u001b[1;34m(self, port, debug)\u001b[0m\n\u001b[0;32m     65\u001b[0m     \u001b[38;5;28;01mraise\u001b[39;00m \u001b[38;5;167;01mRuntimeError\u001b[39;00m(\u001b[38;5;124m'\u001b[39m\u001b[38;5;124mNo Arduino device found.\u001b[39m\u001b[38;5;124m'\u001b[39m)\n\u001b[0;32m     67\u001b[0m \u001b[38;5;28;01mtry\u001b[39;00m:\n\u001b[1;32m---> 68\u001b[0m     \u001b[38;5;28mself\u001b[39m\u001b[38;5;241m.\u001b[39mconnect(baud\u001b[38;5;241m=\u001b[39m\u001b[38;5;241m115200\u001b[39m)\n\u001b[0;32m     69\u001b[0m \u001b[38;5;28;01mexcept\u001b[39;00m AlreadyConnectedError:\n\u001b[0;32m     70\u001b[0m     \u001b[38;5;28;01mraise\u001b[39;00m\n",
      "File \u001b[1;32m~\\Documents\\ECAM\\24-25\\Control Theory\\Laboratory\\Tclab software_v4\\TCLab_software_V4\\tclab.py:116\u001b[0m, in \u001b[0;36mTCLab.connect\u001b[1;34m(self, baud)\u001b[0m\n\u001b[0;32m    113\u001b[0m \u001b[38;5;28;01mglobal\u001b[39;00m _connected\n\u001b[0;32m    115\u001b[0m \u001b[38;5;28;01mif\u001b[39;00m _connected:\n\u001b[1;32m--> 116\u001b[0m     \u001b[38;5;28;01mraise\u001b[39;00m AlreadyConnectedError(\u001b[38;5;124m'\u001b[39m\u001b[38;5;124mYou already have an open connection\u001b[39m\u001b[38;5;124m'\u001b[39m)\n\u001b[0;32m    118\u001b[0m _connected \u001b[38;5;241m=\u001b[39m \u001b[38;5;28;01mTrue\u001b[39;00m\n\u001b[0;32m    120\u001b[0m \u001b[38;5;28mself\u001b[39m\u001b[38;5;241m.\u001b[39msp \u001b[38;5;241m=\u001b[39m serial\u001b[38;5;241m.\u001b[39mSerial(port\u001b[38;5;241m=\u001b[39m\u001b[38;5;28mself\u001b[39m\u001b[38;5;241m.\u001b[39mport, baudrate\u001b[38;5;241m=\u001b[39mbaud, timeout\u001b[38;5;241m=\u001b[39m\u001b[38;5;241m2\u001b[39m)\n",
      "\u001b[1;31mAlreadyConnectedError\u001b[0m: You already have an open connection"
     ]
    }
   ],
   "source": [
    "lab = tclab.TCLab()\n",
    "\n",
    "lab.Q1(50)\n",
    "lab.Q2(50)\n",
    "\n",
    "time.sleep(20)\n",
    "\n",
    "print(lab.T1)\n",
    "print(lab.T2)\n",
    "\n",
    "lab.close() # Disconnect from TCLab"
   ]
  },
  {
   "cell_type": "code",
   "execution_count": null,
   "id": "4f666530-25af-4a1d-a87b-d59a48b868af",
   "metadata": {},
   "outputs": [],
   "source": []
  },
  {
   "cell_type": "code",
   "execution_count": null,
   "id": "e7809afe-cedb-4599-b1ff-c7cdbe9b9b60",
   "metadata": {},
   "outputs": [],
   "source": []
  }
 ],
 "metadata": {
  "kernelspec": {
   "display_name": "Python [conda env:base] *",
   "language": "python",
   "name": "conda-base-py"
  },
  "language_info": {
   "codemirror_mode": {
    "name": "ipython",
    "version": 3
   },
   "file_extension": ".py",
   "mimetype": "text/x-python",
   "name": "python",
   "nbconvert_exporter": "python",
   "pygments_lexer": "ipython3",
   "version": "3.12.7"
  }
 },
 "nbformat": 4,
 "nbformat_minor": 5
}
