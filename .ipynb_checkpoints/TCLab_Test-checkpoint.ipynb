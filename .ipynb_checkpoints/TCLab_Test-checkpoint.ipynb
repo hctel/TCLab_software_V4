{
 "cells": [
  {
   "cell_type": "markdown",
   "id": "bc94dfd6",
   "metadata": {},
   "source": [
    "# TCLab_Test"
   ]
  },
  {
   "cell_type": "code",
   "execution_count": 1,
   "id": "0876410b",
   "metadata": {
    "tags": []
   },
   "outputs": [],
   "source": [
    "import tclab\n",
    "import time"
   ]
  },
  {
   "cell_type": "markdown",
   "id": "23f2be27",
   "metadata": {},
   "source": [
    "# Connect to TCLab"
   ]
  },
  {
   "cell_type": "code",
   "execution_count": 2,
   "id": "f7ee438a",
   "metadata": {
    "tags": []
   },
   "outputs": [
    {
     "name": "stdout",
     "output_type": "stream",
     "text": [
      "TCLab version 1.0.0\n",
      "unknown device connected on port COM9 at 115200 baud.\n",
      "TCLab Firmware 1.4.3 Arduino Leonardo/Micro.\n",
      "48.23\n",
      "53.0\n",
      "TCLab disconnected successfully.\n"
     ]
    }
   ],
   "source": [
    "lab = tclab.TCLab()\n",
    "\n",
    "lab.Q1(50)\n",
    "lab.Q2(50)\n",
    "\n",
    "time.sleep(20)\n",
    "\n",
    "print(lab.T1)\n",
    "print(lab.T2)\n",
    "\n",
    "lab.close() # Disconnect from TCLab"
   ]
  }
 ],
 "metadata": {
  "kernelspec": {
   "display_name": "Python 3 (ipykernel)",
   "language": "python",
   "name": "python3"
  },
  "language_info": {
   "codemirror_mode": {
    "name": "ipython",
    "version": 3
   },
   "file_extension": ".py",
   "mimetype": "text/x-python",
   "name": "python",
   "nbconvert_exporter": "python",
   "pygments_lexer": "ipython3",
   "version": "3.11.5"
  }
 },
 "nbformat": 4,
 "nbformat_minor": 5
}
