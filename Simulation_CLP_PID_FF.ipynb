{
 "cells": [
  {
   "cell_type": "markdown",
   "metadata": {},
   "source": [
    "# Simulation_CLP_PID_FF\n"
   ]
  },
  {
   "cell_type": "code",
   "execution_count": 1,
   "metadata": {},
   "outputs": [],
   "source": [
    "import pandas as pd\n",
    "import numpy as np\n",
    "import matplotlib.pyplot as plt\n",
    "from scipy.optimize import minimize\n",
    "from matplotlib import colors as mcolors\n",
    "\n",
    "from importlib import reload\n",
    "\n",
    "import package_DBR\n",
    "from package_DBR import myRound, SelectPath_RT, Delay_RT, FO_RT, FOPDT, SOPDT, FOPDT_cost, SOPDT_cost, Process, Bode\n",
    "\n",
    "import package_LAB\n",
    "package_LAB = reload(package_LAB)\n",
    "from package_LAB import LL_RT, LL, PID_RT, IMC"
   ]
  },
  {
   "cell_type": "markdown",
   "metadata": {},
   "source": [
    "## Values from experiment + optimization"
   ]
  },
  {
   "cell_type": "code",
   "execution_count": 6,
   "metadata": {},
   "outputs": [],
   "source": [
    "K_SOPDT_OPT = 0.3562231735602847\n",
    "T1_SOPDT_OPT = 164.90136281744202\n",
    "T2_SOPDT_OPT = 41.937854162157095\n",
    "theta_SOPDT_OPT = 1.058634883965729\n",
    "\n",
    "K_SOPDT_OPT_DV = 0.3470577806298568\n",
    "T1_SOPDT_OPT_DV = 160.56027097048144\n",
    "T2_SOPDT_OPT_DV = 35.99302014643125\n",
    "theta_SOPDT_OPT_DV = 9.177287203018302"
   ]
  },
  {
   "cell_type": "markdown",
   "metadata": {},
   "source": [
    "## Feed-forward time constants & dead-time"
   ]
  },
  {
   "cell_type": "code",
   "execution_count": 7,
   "metadata": {},
   "outputs": [],
   "source": [
    "K_FF = -K_SOPDT_OPT_DV/K_SOPDT_OPT\n",
    "\n",
    "TLEAD_LL1 = T1_SOPDT_OPT\n",
    "TLAG_LL1 = T1_SOPDT_OPT_DV\n",
    "\n",
    "TLEAD_LL2 = T2_SOPDT_OPT\n",
    "TLAG_LL2 = T2_SOPDT_OPT_DV\n",
    "\n",
    "thetaFF = max(0, theta_SOPDT_OPT_DV - theta_SOPDT_OPT)"
   ]
  },
  {
   "cell_type": "markdown",
   "metadata": {},
   "source": [
    "## Calculate IMC Values\n"
   ]
  },
  {
   "cell_type": "code",
   "execution_count": 5,
   "metadata": {},
   "outputs": [],
   "source": [
    "gammas = [0.5, 0.9]\n",
    "\n",
    "Kcs = []\n",
    "Tis = []\n",
    "Tds = []\n",
    "\n",
    "for gamma in gammas:\n",
    "    Kc, Ti, Td = IMC(K_SOPDT_OPT, T1_SOPDT_OPT, T2_SOPDT_OPT, theta_SOPDT_OPT, gamma)\n",
    "    Kcs.append(Kc)\n",
    "    Tis.append(Ti)\n",
    "    Tds.append(Td)"
   ]
  },
  {
   "cell_type": "markdown",
   "metadata": {},
   "source": [
    "## Process Simulation"
   ]
  },
  {
   "cell_type": "code",
   "execution_count": null,
   "metadata": {},
   "outputs": [],
   "source": [
    "MV0 = 50\n",
    "DV0 = 50\n",
    "\n",
    "PV0 = 49.4"
   ]
  },
  {
   "cell_type": "code",
   "execution_count": null,
   "metadata": {},
   "outputs": [],
   "source": [
    "TSim = 1500\n",
    "Ts = 1\n",
    "N = int(TSim/Ts) + 1\n",
    "\n",
    "# Path for variables\n",
    "MVManPath = {0:50, TSim:50}\n",
    "DVPath = {0: 0, 5: 60, TSim : 60}\n",
    "SPPath = {0: 50, 5: 60, TSim : 60}\n",
    "PVPath = {0:50, 5:50, TSim:50}\n",
    "\n",
    "ManPath = {0: False, 600: True, 700:False, TSim : False}\n",
    "MVFFPath = {0:0, 1100: 10, TSim : 10}\n",
    "\n",
    "t = []\n",
    "DV = []\n",
    "SP = []\n",
    "PV = []\n",
    "MV = []\n",
    "MVP = []\n",
    "MVI = []\n",
    "MVD = []\n",
    "Man = []\n",
    "MVMan = []\n",
    "MVFF = []\n",
    "E = []\n",
    "\n",
    "\n",
    "for i in range(0,N):\n",
    "    # Feed-Forward\n",
    "    SelectPath_RT(DVPath, i, DV)\n",
    "    # PID\n",
    "    # PRocess\n",
    "    pass"
   ]
  }
 ],
 "metadata": {
  "kernelspec": {
   "display_name": "Python 3",
   "language": "python",
   "name": "python3"
  },
  "language_info": {
   "codemirror_mode": {
    "name": "ipython",
    "version": 3
   },
   "file_extension": ".py",
   "mimetype": "text/x-python",
   "name": "python",
   "nbconvert_exporter": "python",
   "pygments_lexer": "ipython3",
   "version": "3.11.2"
  }
 },
 "nbformat": 4,
 "nbformat_minor": 2
}
